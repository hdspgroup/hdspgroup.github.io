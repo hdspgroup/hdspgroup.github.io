{
  "nbformat": 4,
  "nbformat_minor": 0,
  "metadata": {
    "colab": {
      "name": "Deep_Learning_for_inverse_problems.ipynb",
      "provenance": [],
      "collapsed_sections": []
    },
    "kernelspec": {
      "name": "python3",
      "display_name": "Python 3"
    },
    "accelerator": "GPU"
  },
  "cells": [
    {
      "cell_type": "markdown",
      "metadata": {
        "id": "PfFCxjosTSm6",
        "colab_type": "text"
      },
      "source": [
        "# HDSP Laboratory: Deep Learning for inverse problem\n",
        "\n",
        "This laboratory is based on the paper [Deep Learning Techniques\n",
        "for Inverse Problems in Imaging](https://arxiv.org/pdf/2005.06001.pdf).\n",
        "\n",
        "\n",
        "1.   Before starting, please read the document\n"
      ]
    },
    {
      "cell_type": "markdown",
      "metadata": {
        "id": "499vn-oVUrqe",
        "colab_type": "text"
      },
      "source": [
        "## Inverse problem:\n",
        "\n",
        "It is the task of reconstructing an unknown signal $x$ (image, voice, multidimensional data), from projected observation $y$. This observation can be modeled with a forward model as \n",
        "\\begin{equation}\n",
        "y = A(x) + \\epsilon  \n",
        "\\end{equation}\n",
        "where $A(\\cdot)$ is usually non-invertible and ill-posed. Therefore, a unique solution that fits the observations is difficult or impossible without some prior knowledge about the data.\n",
        "\n"
      ]
    },
    {
      "cell_type": "markdown",
      "metadata": {
        "id": "GWXOUu6kYfWy",
        "colab_type": "text"
      },
      "source": [
        "### Exercise 1:\n",
        "\n",
        "**Example Inverse problems (Super-resolution)**:\n",
        "\n",
        "The super-resolution problem is an inverse problem where the measurements $y$ is a downsampling version of an image $x$. This problem can be expressed as a linear system where\n",
        "\\begin{equation}\n",
        "y = Ax  \n",
        "\\end{equation} \n",
        "\n",
        "A visual example of this problem is illustrated as follows.\n",
        "\n",
        "![image for superresoluton](https://revistas.unal.edu.co/index.php/ingeinv/article/viewFile/54267/58903/320116)\n",
        "\n",
        "*Figure 1: (left) Low-resolution images $y$ (right) High resolution images $x$*\n",
        "\n",
        "\n",
        "\n",
        "\n",
        "> Assuming a resolution factor of $4$, i.e., $4\\times 4$ pixel in the original images are the average of a pixel in the measurements, read an image a made the decimation matrix $A$ to obtain $y$, using $y=Ax$\n"
      ]
    },
    {
      "cell_type": "code",
      "metadata": {
        "id": "5GXDxpfQ3zWX",
        "colab_type": "code",
        "colab": {}
      },
      "source": [
        "# Read a images (preference a gray-sacle)\n",
        "from google.colab import files  \n",
        "files.upload()\n"
      ],
      "execution_count": null,
      "outputs": []
    },
    {
      "cell_type": "code",
      "metadata": {
        "id": "5r0m_Q3XcKwC",
        "colab_type": "code",
        "colab": {}
      },
      "source": [
        "import numpy as np\n",
        "import cv2 \n",
        "import matplotlib.pyplot as plt\n",
        "\n",
        "img = cv2.imread('name_image.png') # we can visualize the image\n",
        "plt.imshow(img)\n",
        "\n",
        "#--- we need to vectorize the image x\n",
        "\n",
        "#Lines for vectorize the image  \n",
        "x = \n",
        "\n",
        "# --- We need to build the matrix A  (recomentation: We can use np.kron)\n",
        "\n",
        "# Lines for bould the linear matrix \n",
        " A =\n",
        "\n",
        "# ----- sensing model \n",
        "\n",
        "y = np.multiply(A,x)\n",
        "\n",
        "#-------- reshape y as a matrix\n",
        "\n",
        "# Lines for reshape y \n",
        "Y_matrix = \n",
        "\n",
        "plt.imshow(Y_matrix)\n"
      ],
      "execution_count": null,
      "outputs": []
    },
    {
      "cell_type": "markdown",
      "metadata": {
        "id": "1bP3PF6vd6qa",
        "colab_type": "text"
      },
      "source": [
        "# Inverse problem examples\n",
        "\n",
        "With the growth of available data, deep learning has helped improve the performance of these problems. An example of these is the following.\n",
        "\n",
        "![texto alternativo](https://d3i71xaburhd42.cloudfront.net/2e88f6c1e560ff4c2823c9bec5d35b9f963a8b0a/3-Figure1-1.png)\n",
        "\n",
        "![texto alternativo](https://d3i71xaburhd42.cloudfront.net/2e88f6c1e560ff4c2823c9bec5d35b9f963a8b0a/6-Table1-1.png)\n"
      ]
    },
    {
      "cell_type": "markdown",
      "metadata": {
        "id": "9TWkArhB8M7H",
        "colab_type": "text"
      },
      "source": [
        "# classification of Inverse Problem\n",
        "\n",
        "The majority of the deep inverse problem can be generalices in the following table\n",
        "![texto alternativo](https://d3i71xaburhd42.cloudfront.net/2e88f6c1e560ff4c2823c9bec5d35b9f963a8b0a/9-Table2-1.png)\n"
      ]
    },
    {
      "cell_type": "markdown",
      "metadata": {
        "id": "MSUHb0cstumA",
        "colab_type": "text"
      },
      "source": [
        "# Forward Model Fully Known During Training and Testing\n",
        "\n",
        "when the degradation model is known, for example $A$, in the super-resoution model, an initial estimate can be calculated to return to the image dimensions\n",
        "\n",
        "$$\\tilde{x}=A^Ty$$\n",
        "\n",
        "and this can be used as input of a model"
      ]
    },
    {
      "cell_type": "markdown",
      "metadata": {
        "id": "dacDNJoh4a89",
        "colab_type": "text"
      },
      "source": [
        "### Dowload the MNIST DATASET\n"
      ]
    },
    {
      "cell_type": "code",
      "metadata": {
        "id": "b3X3eB7y45gh",
        "colab_type": "code",
        "colab": {
          "base_uri": "https://localhost:8080/",
          "height": 55
        },
        "outputId": "b08eac1a-bda1-4551-b96c-09af041ee8c3"
      },
      "source": [
        "import tensorflow as tf\n",
        "\n",
        "mnist = tf.keras.datasets.mnist\n",
        "(x_train, x_labels), (x_test, y_labels) = mnist.load_data()\n",
        "x_train, x_test = x_train / 255.0, x_test / 255.0"
      ],
      "execution_count": null,
      "outputs": [
        {
          "output_type": "stream",
          "text": [
            "Downloading data from https://storage.googleapis.com/tensorflow/tf-keras-datasets/mnist.npz\n",
            "11493376/11490434 [==============================] - 0s 0us/step\n"
          ],
          "name": "stdout"
        }
      ]
    },
    {
      "cell_type": "markdown",
      "metadata": {
        "id": "-0vzIrgp5JCH",
        "colab_type": "text"
      },
      "source": [
        "Build a decimation matrix with a supe-resolution factor of 2, for the MNIST dataset, i.e., the low-resolution image result of $14\\times 14$\n",
        "\n",
        "do the following operations:\n",
        "\n",
        "\n",
        "1. reshape de data   \n",
        "2. y_train = A*x_train\n",
        "3.   x_estimate = A*y_train\n",
        "3. reshape de x_estimate as a image\n",
        "\n"
      ]
    },
    {
      "cell_type": "code",
      "metadata": {
        "id": "dLksNcp0563e",
        "colab_type": "code",
        "colab": {}
      },
      "source": [
        "y_train = \n",
        "x_estimate = "
      ],
      "execution_count": null,
      "outputs": []
    },
    {
      "cell_type": "markdown",
      "metadata": {
        "id": "m_luswWT572h",
        "colab_type": "text"
      },
      "source": [
        "\n",
        "\n",
        "1.   check that spatial dimensions of $x_estimate$ are $28x28$\n",
        "2.   Build a convolutional model, where the input and the output received an image of $28\\times 28$\n",
        "\n",
        "\n"
      ]
    },
    {
      "cell_type": "code",
      "metadata": {
        "id": "12rwPaEL7RDr",
        "colab_type": "code",
        "colab": {}
      },
      "source": [
        "model = "
      ],
      "execution_count": null,
      "outputs": []
    },
    {
      "cell_type": "markdown",
      "metadata": {
        "id": "DoHzxNnK7lz_",
        "colab_type": "text"
      },
      "source": [
        "Now your model must be training using this estimate as input data and the original image as output data.\n"
      ]
    },
    {
      "cell_type": "code",
      "metadata": {
        "id": "BC7Amg0J7rXp",
        "colab_type": "code",
        "colab": {}
      },
      "source": [
        "model.compile(optimizer=optimizad, loss='mean_squared_error',metrics=['mse','mae'])\n",
        "      \n",
        "history = model.fit(x_estimate, x_train, epochs=100, batch_size=FLAGS.batch_size)"
      ],
      "execution_count": null,
      "outputs": []
    },
    {
      "cell_type": "markdown",
      "metadata": {
        "id": "jJr-TOH68Jx5",
        "colab_type": "text"
      },
      "source": [
        "Evaluate your model with x_test data, (Notice that you need to do the same process, i.e, obtain the initialization)"
      ]
    },
    {
      "cell_type": "code",
      "metadata": {
        "id": "K9gz9fOv80XE",
        "colab_type": "code",
        "colab": {}
      },
      "source": [
        "y_test = \n",
        "x_estimate_test = \n",
        "\n",
        "x_reconstructed = model.predict(x_estimate_test)\n",
        "\n",
        "# calculate error metrics\n",
        "MSE = \n",
        "MAE = \n"
      ],
      "execution_count": null,
      "outputs": []
    },
    {
      "cell_type": "markdown",
      "metadata": {
        "id": "k999GnJy9ZHc",
        "colab_type": "text"
      },
      "source": [
        "# well done, you just created your first model to solve an inverse problem\n",
        "\n",
        "Now you can improve your model using a network with skip connections\n",
        "\n",
        "![texto alternativo](https://d3i71xaburhd42.cloudfront.net/2e88f6c1e560ff4c2823c9bec5d35b9f963a8b0a/10-Figure7-1.png)"
      ]
    },
    {
      "cell_type": "code",
      "metadata": {
        "id": "ab6fPk1p-PsB",
        "colab_type": "code",
        "colab": {}
      },
      "source": [
        "model = "
      ],
      "execution_count": null,
      "outputs": []
    },
    {
      "cell_type": "markdown",
      "metadata": {
        "id": "Vx9cBuQ6_Xlr",
        "colab_type": "text"
      },
      "source": [
        "# Questions\n",
        "\n",
        "\n",
        "\n",
        "1.   What is a inverse problem?\n",
        "2.   What kind of reverse problem was analyzed in the laboratory?\n",
        "3.  Why the need to use Deep learning in this problem?\n",
        "4. How can you improve the performance of your model?\n",
        "\n",
        "\n",
        "\n",
        "\n"
      ]
    },
    {
      "cell_type": "code",
      "metadata": {
        "id": "F6HzsosrAB6Z",
        "colab_type": "code",
        "colab": {}
      },
      "source": [
        ""
      ],
      "execution_count": null,
      "outputs": []
    }
  ]
}